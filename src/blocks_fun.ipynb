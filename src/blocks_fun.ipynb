{
 "cells": [
  {
   "cell_type": "markdown",
   "metadata": {},
   "source": [
    "<!-- --- begin exercise --- -->\n",
    "\n",
    "## Exercise 1: Fun\n",
    "\n",
    "A matrix has rows and columns, it is standard practice to index rows first and\n",
    "then columns - this can be hard to remember sometimes, if you have a hard time\n",
    "remembering, think about these radical columns (radikale kolonner).\n",
    "\n",
    "A `BlockGrid` is a matrix with colors, each block has a rgb color and of course,\n",
    "an index `i, j` (row, colums).\n",
    "The colors of a block is set with syntax `block.red = red` where\n",
    "red is a number between 0 and 255 - try to write \"color picker\" in google and\n",
    "you will get a color map where you can choose a color and get rgb values.\n",
    "The color of a block can also be set with `block.rgb = [red, green, blue]` where\n",
    "`red`, `green` and `blue` are each numbers between 0 and 255.\n",
    "\n",
    "\n",
    "**a)**\n",
    "In this exercise we will use a `while loop` to go through a grid and set\n",
    "increasing values of red.\n",
    "\n",
    "We have a `10x10` matrix, which means it has 10 rows and 10 columns.\n",
    "Distribute colors to each block such that block `[0,0]` has the color `[0,0,0]`\n",
    "and block `[9,9]` has the color `[255,0,0]`, hint: solve $i*j*x=255$"
   ]
  },
  {
   "cell_type": "code",
   "execution_count": 1,
   "metadata": {
    "collapsed": false
   },
   "outputs": [],
   "source": [
    "from ipythonblocks import BlockGrid\n",
    "w = 10\n",
    "h = 10\n",
    "\n",
    "grid = BlockGrid(w, h, block_size=50)\n",
    "i = 0\n",
    "while i < h:\n",
    "    j = 0\n",
    "    while j < w:\n",
    "        # Put your code here\n",
    "    i += 1\n",
    "\n",
    "grid.show()"
   ]
  },
  {
   "cell_type": "markdown",
   "metadata": {},
   "source": [
    "<!-- --- begin solution of exercise --- -->\n",
    "**Solution.**"
   ]
  },
  {
   "cell_type": "code",
   "execution_count": 2,
   "metadata": {
    "collapsed": false
   },
   "outputs": [],
   "source": [
    "from ipythonblocks import BlockGrid\n",
    "w = 10\n",
    "h = 10\n",
    "\n",
    "grid = BlockGrid(w, h, block_size=50)\n",
    "i = 0\n",
    "while i < h:\n",
    "    j = 0\n",
    "    while j < w:\n",
    "        block = grid[i, j]\n",
    "        block.red = j * i * 3.142\n",
    "        j += 1\n",
    "    i += 1\n",
    "\n",
    "grid.show()"
   ]
  },
  {
   "cell_type": "markdown",
   "metadata": {},
   "source": [
    "<!-- --- end solution of exercise --- -->\n",
    "\n",
    "**b)**\n",
    "Writing while loops can sometimes be demanding to write and the code can very\n",
    "often be simplified with for loops. Rewrite the previous code with for loops.\n",
    "\n",
    "\n",
    "<!-- --- begin solution of exercise --- -->\n",
    "**Solution.**"
   ]
  },
  {
   "cell_type": "code",
   "execution_count": 3,
   "metadata": {
    "collapsed": false
   },
   "outputs": [],
   "source": [
    "from ipythonblocks import BlockGrid\n",
    "w = 10\n",
    "h = 10\n",
    "\n",
    "grid = BlockGrid(w, h, block_size=50)\n",
    "for i in range(h):\n",
    "    for j in range(w):\n",
    "        block = grid[i, j]\n",
    "        block.red = j * i * 3\n",
    "\n",
    "grid.show()"
   ]
  },
  {
   "cell_type": "markdown",
   "metadata": {},
   "source": [
    "<!-- --- end solution of exercise --- -->\n",
    "\n",
    "**c)**\n",
    "When the row index is equal to the column index, we are on the diagonal. Give the\n",
    "diagonal your favorite color!\n",
    "\n",
    "\n",
    "<!-- --- begin solution of exercise --- -->\n",
    "**Solution.**"
   ]
  },
  {
   "cell_type": "code",
   "execution_count": 4,
   "metadata": {
    "collapsed": false
   },
   "outputs": [],
   "source": [
    "from ipythonblocks import BlockGrid\n",
    "w = 10\n",
    "h = 10\n",
    "\n",
    "grid = BlockGrid(w, h, block_size=50)\n",
    "for i in range(h):\n",
    "    for j in range(w):\n",
    "        block = grid[i, j]\n",
    "        if i == j:\n",
    "            block.blue = 200\n",
    "\n",
    "grid.show()"
   ]
  },
  {
   "cell_type": "markdown",
   "metadata": {},
   "source": [
    "<!-- --- end solution of exercise --- -->\n",
    "\n",
    "**d)**\n",
    "When the row index is smaller than the column index, we are in the upper\n",
    "diagonal part of the matrix. Give the upper diagonal your second most favorite color!\n",
    "\n",
    "\n",
    "<!-- --- begin solution of exercise --- -->\n",
    "**Solution.**"
   ]
  },
  {
   "cell_type": "code",
   "execution_count": 5,
   "metadata": {
    "collapsed": false
   },
   "outputs": [],
   "source": [
    "from ipythonblocks import BlockGrid\n",
    "w = 10\n",
    "h = 10\n",
    "\n",
    "grid = BlockGrid(w, h, block_size=50)\n",
    "for i in range(h):\n",
    "    for j in range(w):\n",
    "        block = grid[i, j]\n",
    "        if i == j:\n",
    "            block.blue = 200\n",
    "        elif i < j:\n",
    "            block.green = 200\n",
    "grid.show()"
   ]
  },
  {
   "cell_type": "markdown",
   "metadata": {},
   "source": [
    "<!-- --- end solution of exercise --- -->\n",
    "\n",
    "**e)**\n",
    "When the row index is greater than the column index, we are in the lower\n",
    "diagonal part of the matrix. Give the lower diagonal your least favorite color!\n",
    "\n",
    "\n",
    "<!-- --- begin solution of exercise --- -->\n",
    "**Solution.**"
   ]
  },
  {
   "cell_type": "code",
   "execution_count": 6,
   "metadata": {
    "collapsed": false
   },
   "outputs": [],
   "source": [
    "from ipythonblocks import BlockGrid\n",
    "w = 10\n",
    "h = 10\n",
    "\n",
    "grid = BlockGrid(w, h, block_size=50)\n",
    "for i in range(h):\n",
    "    for j in range(w):\n",
    "        block = grid[i, j]\n",
    "        if i == j:\n",
    "            block.blue = 200\n",
    "        elif i > j:\n",
    "            block.red = 200\n",
    "        else:\n",
    "            block.green = 200\n",
    "grid.show()"
   ]
  },
  {
   "cell_type": "markdown",
   "metadata": {},
   "source": [
    "<!-- --- end solution of exercise --- -->\n",
    "\n",
    "<!-- --- end exercise --- -->"
   ]
  }
 ],
 "metadata": {},
 "nbformat": 4,
 "nbformat_minor": 2
}
