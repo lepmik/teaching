{
 "cells": [
  {
   "cell_type": "code",
   "execution_count": 2,
   "metadata": {},
   "outputs": [],
   "source": [
    "from ipythonblocks import BlockGrid\n",
    "from IPython.display import clear_output\n",
    "from pylab import *"
   ]
  },
  {
   "cell_type": "code",
   "execution_count": 9,
   "metadata": {},
   "outputs": [],
   "source": [
    "INFECTED = [255, 0, 0]\n",
    "DEAD = [0, 0, 0]\n",
    "SUCEPTIBLE = [192, 192, 192]\n",
    "RECOVERED = [0, 255, 0]\n",
    "GHOST = [255, 255, 255]\n",
    "VACCINATED = [255, 255, 0]\n",
    "\n",
    "def go(i, j, direction):\n",
    "    if direction == 'up':\n",
    "        return i + 1, j\n",
    "    if direction == 'down':\n",
    "        return i - 1, j\n",
    "    if direction == 'left':\n",
    "        return i, j - 1\n",
    "    if direction == 'right':\n",
    "        return i, j + 1\n",
    "    \n",
    "def get_color(block):\n",
    "    return [block.red, block.green, block.blue]\n",
    "\n",
    "def set_color(block, color):\n",
    "    block.rgb = color\n",
    "    \n",
    "def initialize_grid(w, h, patient_zero=[5, 5], block_size=50):\n",
    "    today = BlockGrid(w, h, block_size=block_size)\n",
    "    for i in range(h):\n",
    "        for j in range(w):\n",
    "            block = today[i, j]\n",
    "            if i == h - 1 or i == 0:\n",
    "                set_color(block, GHOST)\n",
    "            elif j == w - 1 or j == 0:\n",
    "                set_color(block, GHOST)\n",
    "            elif [i, j] == patient_zero:\n",
    "                set_color(block, INFECTED)\n",
    "            else:\n",
    "                set_color(block, SUCEPTIBLE)\n",
    "    return today\n",
    "\n",
    "def vaccinate(grid, zeta=0.2):\n",
    "    '''\n",
    "    zeta: 0.2 means 20% of population gets vaccinated\n",
    "\n",
    "    '''\n",
    "    w, h = grid.shape\n",
    "    for i in range(h):\n",
    "        for j in range(w):\n",
    "            my_color = get_color(grid[i, j])\n",
    "            if my_color == SUCEPTIBLE:\n",
    "                if random() < zeta:\n",
    "                    set_color(grid[i, j], VACCINATED)\n",
    "                    \n",
    "def destiny(color, alpha=0.2, beta=0.2, mu=0.2):\n",
    "    '''\n",
    "    alpha: 0.2 means 20% probability of being infected\n",
    "    beta: 0.2 means 20% probability of becoming immune\n",
    "    mu = 0.2 means 20% probability of dying (80% probability of recovering)\n",
    "\n",
    "    '''\n",
    "    if color == SUCEPTIBLE:\n",
    "        if random() < alpha:\n",
    "            color = INFECTED\n",
    "    if color == INFECTED:\n",
    "        if random() < beta:\n",
    "            if random() < mu:\n",
    "                color = DEAD\n",
    "            else:\n",
    "                color = RECOVERED\n",
    "    return color\n",
    "    \n",
    "def analyse(grid):\n",
    "    n_dead = 0\n",
    "    n_recovered = 0\n",
    "    n_suceptible = 0\n",
    "    n_infected = 0\n",
    "    n_vaccinated = 0\n",
    "    w, h = grid.shape\n",
    "    for i in range(h):\n",
    "        for j in range(w):\n",
    "            my_color = get_color(grid[i, j])\n",
    "            if my_color == SUCEPTIBLE:\n",
    "                n_suceptible += 1\n",
    "            if my_color == DEAD:\n",
    "                n_dead += 1\n",
    "            if my_color == RECOVERED:\n",
    "                n_recovered += 1\n",
    "            if my_color == INFECTED:\n",
    "                n_infected += 1\n",
    "            if my_color == VACCINATED:\n",
    "                n_vaccinated += 1\n",
    "    return n_dead, n_recovered, n_suceptible, n_infected, n_vaccinated\n",
    "\n",
    "def simulate(grid, n_days, flash=True):\n",
    "    today = grid.copy()\n",
    "    w, h = grid.shape\n",
    "    for day in range(n_days):\n",
    "        tomorrow = today.copy()\n",
    "        for i in range(h):\n",
    "            for j in range(w):\n",
    "                my_color = get_color(tomorrow[i, j])\n",
    "                if my_color == SUCEPTIBLE:\n",
    "                    for direction in ['up', 'down', 'left', 'right']:\n",
    "                        i_neighbor, j_neighbor = go(i, j, direction)\n",
    "                        neighbor_color = get_color(today[i_neighbor, j_neighbor])\n",
    "                        if neighbor_color == INFECTED:\n",
    "                            my_color = get_color(tomorrow[i, j])\n",
    "                            my_destiny = destiny(my_color)\n",
    "                            set_color(tomorrow[i, j], my_destiny)\n",
    "        today = tomorrow\n",
    "        if flash:\n",
    "            today.flash()\n",
    "    return today"
   ]
  },
  {
   "cell_type": "code",
   "execution_count": 34,
   "metadata": {},
   "outputs": [],
   "source": [
    "w = 25\n",
    "h = 25\n",
    "N_dead, N_recovered, N_suceptible, N_infected, N_vaccinated = [], [], [], [], []\n",
    "for n in range(100):\n",
    "    today = initialize_grid(w, h, patient_zero=[10, 10], block_size=16)\n",
    "    # today.show()\n",
    "    vaccinate(today)\n",
    "    # today.show()\n",
    "    result = simulate(today, n_days=150, flash=False)\n",
    "    n_dead, n_recovered, n_suceptible, n_infected, n_vaccinated = analyse(result)\n",
    "    N_dead.append(n_dead / (w * h))\n",
    "    N_recovered.append(n_recovered / (w * h))\n",
    "    N_suceptible.append(n_suceptible / (w * h))\n",
    "    N_infected.append(n_infected / (w * h))\n",
    "    N_vaccinated.append(n_vaccinated / (w * h))"
   ]
  },
  {
   "cell_type": "code",
   "execution_count": 35,
   "metadata": {},
   "outputs": [
    {
     "data": {
      "text/plain": [
       "Text(0,0.5,'Occurences')"
      ]
     },
     "execution_count": 35,
     "metadata": {},
     "output_type": "execute_result"
    },
    {
     "data": {
      "image/png": "[encoded data removed]",
      "text/plain": [
       "<Figure size 432x288 with 1 Axes>"
      ]
     },
     "metadata": {},
     "output_type": "display_data"
    },
    {
     "data": {
      "image/png": "[encoded data removed]",
      "text/plain": [
       "<Figure size 432x288 with 1 Axes>"
      ]
     },
     "metadata": {},
     "output_type": "display_data"
    },
    {
     "data": {
      "image/png": "[encoded data removed]",
      "text/plain": [
       "<Figure size 432x288 with 1 Axes>"
      ]
     },
     "metadata": {},
     "output_type": "display_data"
    },
    {
     "data": {
      "image/png": "[encoded data removed]",
      "text/plain": [
       "<Figure size 432x288 with 1 Axes>"
      ]
     },
     "metadata": {},
     "output_type": "display_data"
    },
    {
     "data": {
      "image/png": "[encoded data removed]",
      "text/plain": [
       "<Figure size 432x288 with 1 Axes>"
      ]
     },
     "metadata": {},
     "output_type": "display_data"
    }
   ],
   "source": [
    "fig = plt.figure()\n",
    "plt.hist(N_dead)\n",
    "plt.title('Death')\n",
    "plt.xlabel('Deaths')\n",
    "plt.ylabel('Occurences')\n",
    "\n",
    "fig = plt.figure()\n",
    "plt.hist(N_recovered)\n",
    "plt.title('Recovery')\n",
    "plt.xlabel('Recovered')\n",
    "plt.ylabel('Occurences')\n",
    "\n",
    "fig = plt.figure()\n",
    "plt.hist(N_suceptible)\n",
    "plt.title('Suceptibility')\n",
    "plt.xlabel('Suceptibles')\n",
    "plt.ylabel('Occurences')\n",
    "\n",
    "fig = plt.figure()\n",
    "plt.hist(N_infected)\n",
    "plt.title('Infection')\n",
    "plt.xlabel('Infections')\n",
    "plt.ylabel('Occurences')\n",
    "\n",
    "fig = plt.figure()\n",
    "plt.hist(N_vaccinated)\n",
    "plt.title('Vaccination')\n",
    "plt.xlabel('Vaccinations')\n",
    "plt.ylabel('Occurences')"
   ]
  },
  {
   "cell_type": "code",
   "execution_count": null,
   "metadata": {},
   "outputs": [],
   "source": []
  }
 ],
 "metadata": {
  "kernelspec": {
   "display_name": "Python 2",
   "language": "python",
   "name": "python2"
  },
  "language_info": {
   "codemirror_mode": {
    "name": "ipython",
    "version": 2
   },
   "file_extension": ".py",
   "mimetype": "text/x-python",
   "name": "python",
   "nbconvert_exporter": "python",
   "pygments_lexer": "ipython2",
   "version": "2.7.15"
  }
 },
 "nbformat": 4,
 "nbformat_minor": 2
}
