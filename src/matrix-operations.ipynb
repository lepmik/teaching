{
 "cells": [
  {
   "cell_type": "markdown",
   "metadata": {},
   "source": [
    "<!-- --- begin exercise --- -->\n",
    "\n",
    "## Exercise 1: Vector multiplication\n",
    "\n",
    "**Definition: dot product with vectors.**\n",
    "\n",
    "The dot ($\\cdot$) product between two vectors $\\textbf{v} = (v_0, v_1, ..., v_n)$ and\n",
    "$\\textbf{w} = (w_0, w_1, ..., w_n)$ is defined as\n",
    "$\\textbf{v} \\cdot \\textbf{w} = v_0 w_0 + v_1 w_1 + \\cdots + v_n w_n$\n",
    "\n",
    "\n",
    "\n",
    "\n",
    "**a)**\n",
    "Implement vector multiplication as a python function that takes two lists as\n",
    "arguments"
   ]
  },
  {
   "cell_type": "code",
   "execution_count": 1,
   "metadata": {
    "collapsed": false
   },
   "outputs": [],
   "source": [
    "def vec_dot_vec(v, w):\n",
    "    result = 0\n",
    "    for i in range(len(w)):\n",
    "        result += # code here\n",
    "    return result"
   ]
  },
  {
   "cell_type": "markdown",
   "metadata": {},
   "source": [
    "<!-- --- begin solution of exercise --- -->\n",
    "**Solution.**"
   ]
  },
  {
   "cell_type": "code",
   "execution_count": 2,
   "metadata": {
    "collapsed": false
   },
   "outputs": [],
   "source": [
    "def vec_dot_vec(v, w):\n",
    "    result = 0\n",
    "    for i in range(len(w)):\n",
    "        result += v[i] * w[i]\n",
    "    return result"
   ]
  },
  {
   "cell_type": "markdown",
   "metadata": {},
   "source": [
    "<!-- --- end solution of exercise --- -->\n",
    "\n",
    "Now that we have made a function that performs vector multiplication it would\n",
    "be nice to know that it actually works. Let's make a test case"
   ]
  },
  {
   "cell_type": "code",
   "execution_count": 3,
   "metadata": {
    "collapsed": false
   },
   "outputs": [],
   "source": [
    "v = [5, 6, 3]\n",
    "w = [1, 5, 10]\n",
    "result = vec_dot_vec(v, w)\n",
    "true_result = 65\n",
    "if result == true_result:\n",
    "    print('vec_dot_vec is succesfull!')\n",
    "else:\n",
    "    print('vec_dot_vec is unsuccesfull!', result, 'not equal to', true_result)"
   ]
  },
  {
   "cell_type": "markdown",
   "metadata": {},
   "source": [
    "Actually, with this test we require that the result is extremely accurate by\n",
    "using `==`. To illustrate this we can try a version with slightly different\n",
    "values for $v,w$"
   ]
  },
  {
   "cell_type": "code",
   "execution_count": 4,
   "metadata": {
    "collapsed": false
   },
   "outputs": [],
   "source": [
    "v = [5.0000000000001, 6, 3]\n",
    "w = [1, 5.000000000001, 10]\n",
    "result = vec_dot_vec(v, w)\n",
    "true_result = 65\n",
    "if result == true_result:\n",
    "    print('vec_dot_vec is succesfull!')\n",
    "else:\n",
    "    print('vec_dot_vec is unsuccesfull!', result, 'not equal to', true_result)"
   ]
  },
  {
   "cell_type": "markdown",
   "metadata": {},
   "source": [
    "As we see here, the test claims that the method does not compute correctly.\n",
    "This is because we use multiplication, which can be very sensitive to\n",
    "machine precision.\n",
    "**b)**\n",
    "Implement a test function that can test if two numbers are equal with given\n",
    "precision"
   ]
  },
  {
   "cell_type": "code",
   "execution_count": 5,
   "metadata": {
    "collapsed": false
   },
   "outputs": [],
   "source": [
    "def num_ca_equal(a, b, precision=10):\n",
    "    if # a and be are almost equal\n",
    "        return True\n",
    "    else:\n",
    "        return False"
   ]
  },
  {
   "cell_type": "markdown",
   "metadata": {},
   "source": [
    "<!-- --- begin solution of exercise --- -->\n",
    "**Solution.**"
   ]
  },
  {
   "cell_type": "code",
   "execution_count": 6,
   "metadata": {
    "collapsed": false
   },
   "outputs": [],
   "source": [
    "def num_ca_equal(a, b, precision=10):\n",
    "    if round(a, precision) == round(b, precision):\n",
    "        return True\n",
    "    else:\n",
    "        return False"
   ]
  },
  {
   "cell_type": "markdown",
   "metadata": {},
   "source": [
    "<!-- --- end solution of exercise --- -->\n",
    "\n",
    "Now let's test this function"
   ]
  },
  {
   "cell_type": "code",
   "execution_count": 7,
   "metadata": {
    "collapsed": false
   },
   "outputs": [],
   "source": [
    "v = [5.0000000000001, 6, 3]\n",
    "w = [1, 5.000000000001, 10]\n",
    "result = vec_dot_vec(v, w)\n",
    "true_result = 65\n",
    "if num_ca_equal(result, true_result, precision=10):\n",
    "    print('vec_dot_vec is succesfull!')\n",
    "else:\n",
    "    print('vec_dot_vec is unsuccesfull!', result, 'not equal to', true_result)"
   ]
  },
  {
   "cell_type": "markdown",
   "metadata": {},
   "source": [
    "<!-- --- end exercise --- -->\n",
    "\n",
    "\n",
    "\n",
    "\n",
    "<!-- --- begin exercise --- -->\n",
    "\n",
    "## Exercise 2: Matrix Vector multiplication\n",
    "\n",
    "Now we can try to make a function that does matrix operations, first we have to\n",
    "figure out how to define a matrix with python.\n",
    "Python lists can store anything\n",
    "inside them, we can utilize this to build a matrix.\n",
    "Let's define a row as a list inside a list, which means that we write the\n",
    "following matrix"
   ]
  },
  {
   "cell_type": "markdown",
   "metadata": {},
   "source": [
    "$$\n",
    "A =\n",
    "\\begin{bmatrix}\n",
    "    0       & 0.2 & 1.5 & 0 \\\\\n",
    "    0.9     & 0   & 0   & 0 \\\\\n",
    "    0       & 0.8 & 0   & 0 \\\\\n",
    "    0       & 0   & 0.5 & 0.3\n",
    "\\end{bmatrix}\n",
    "$$"
   ]
  },
  {
   "cell_type": "markdown",
   "metadata": {},
   "source": [
    "as a python list:"
   ]
  },
  {
   "cell_type": "code",
   "execution_count": 8,
   "metadata": {
    "collapsed": false
   },
   "outputs": [],
   "source": [
    "A = [[0, 0.2, 1.5, 0.0],\n",
    "     [0.9, 0, 0, 0],\n",
    "     [0, 0.8, 0, 0],\n",
    "     [0, 0, 0.5, 0.3]]"
   ]
  },
  {
   "cell_type": "markdown",
   "metadata": {},
   "source": [
    "Ok, now let's make a function that can multipy a matrix with a vector.\n",
    "\n",
    "**Definition: dot product of matrix with vector.**\n",
    "\n",
    "The dot ($\\cdot$) product between a $m x n$ matrix"
   ]
  },
  {
   "cell_type": "markdown",
   "metadata": {},
   "source": [
    "$$\n",
    "A =\n",
    "\\begin{bmatrix}\n",
    "    a_{0,0}   & a_{0,1} & \\dots  & a_{0,n} \\\\\n",
    "    a_{1,0}   & a_{1,1} & \\dots  & a_{1,n} \\\\\n",
    "    \\vdots    & \\vdots  & \\ddots & \\vdots \\\\\n",
    "    a_{m,0}   & a_{m,1} & \\dots  & a_{m,n}\n",
    "\\end{bmatrix}\n",
    "$$"
   ]
  },
  {
   "cell_type": "markdown",
   "metadata": {},
   "source": [
    "and a vector $\\textbf{v} = (v_0, v_1, ..., v_n)$ is defined as"
   ]
  },
  {
   "cell_type": "markdown",
   "metadata": {},
   "source": [
    "$$\n",
    "A \\cdot \\textbf{v} = (\n",
    "  a_{0,0} v_0 + a_{0,1} v_1 + \\cdots + a_{0,n} v_n,\n",
    "  a_{1,0} v_0 + a_{1,1} v_1 + \\cdots + a_{1,n} v_n,\n",
    "  \\dots,\n",
    "  a_{m,0} v_0 + a_{m,1} v_1 + \\cdots + a_{m,n} v_n\n",
    ")\n",
    "$$"
   ]
  },
  {
   "cell_type": "markdown",
   "metadata": {},
   "source": [
    "**a)**\n",
    "Implement matrix-vector multiplication as a python function that takes two lists as\n",
    "arguments. Remember that you may use the `vec_dot_vec` function, and that the\n",
    "rows of A is vectors."
   ]
  },
  {
   "cell_type": "code",
   "execution_count": 9,
   "metadata": {
    "collapsed": false
   },
   "outputs": [],
   "source": [
    "def mat_dot_vec(A, v):\n",
    "    result = []\n",
    "    for i in range(len(A)):\n",
    "        # your code here\n",
    "    return result"
   ]
  },
  {
   "cell_type": "markdown",
   "metadata": {},
   "source": [
    "<!-- --- begin solution of exercise --- -->\n",
    "**Solution.**"
   ]
  },
  {
   "cell_type": "code",
   "execution_count": 10,
   "metadata": {
    "collapsed": false
   },
   "outputs": [],
   "source": [
    "def mat_dot_vec(A, v):\n",
    "    result = []\n",
    "    for i in range(len(A)):\n",
    "        result.append(vec_dot_vec(A[i], v))\n",
    "    return result"
   ]
  },
  {
   "cell_type": "markdown",
   "metadata": {},
   "source": [
    "<!-- --- end solution of exercise --- -->\n",
    "\n",
    "Let's now test our function with some ground truth so we are sure that it works\n",
    "properly"
   ]
  },
  {
   "cell_type": "code",
   "execution_count": 11,
   "metadata": {
    "collapsed": false
   },
   "outputs": [],
   "source": [
    "v = [1000, 700, 500, 200]\n",
    "A = [[0, 0.2, 1.5, 0.0],\n",
    "     [0.9, 0, 0, 0],\n",
    "     [0, 0.8, 0, 0],\n",
    "     [0, 0, 0.5, 0.3]]\n",
    "result = mat_dot_vec(A, v)\n",
    "true_result = [890, 900, 560, 310]\n",
    "if result == true_result:\n",
    "    print('mat_dot_vec is succesfull!')\n",
    "else:\n",
    "    print('mat_dot_vec is unsuccesfull!', result, 'not equal to', true_result)"
   ]
  },
  {
   "cell_type": "markdown",
   "metadata": {},
   "source": [
    "Again we impose a severly strict test by use of `==`, we might need a fuction\n",
    "that can test if two vectors are approximately equal\n",
    "\n",
    "**b)**\n",
    "Implement a test function that checks if two vectors ar approximately equal"
   ]
  },
  {
   "cell_type": "code",
   "execution_count": 12,
   "metadata": {
    "collapsed": false
   },
   "outputs": [],
   "source": [
    "def vec_ca_equal(v, w, precision=10):\n",
    "    if len(v) != len(w):\n",
    "        return False\n",
    "    for i in range(len(w)):\n",
    "        # test if the numbers v[i] and w[i] are approximately equal\n",
    "            return False\n",
    "    return True"
   ]
  },
  {
   "cell_type": "markdown",
   "metadata": {},
   "source": [
    "<!-- --- begin solution of exercise --- -->\n",
    "**Solution.**"
   ]
  },
  {
   "cell_type": "code",
   "execution_count": 13,
   "metadata": {
    "collapsed": false
   },
   "outputs": [],
   "source": [
    "def vec_ca_equal(v, w, precision=10):\n",
    "    if len(v) != len(w):\n",
    "        return False\n",
    "    for i in range(len(w)):\n",
    "        if not num_ca_equal(v[i], w[i], precision):\n",
    "            return False\n",
    "    return True"
   ]
  },
  {
   "cell_type": "markdown",
   "metadata": {},
   "source": [
    "<!-- --- end solution of exercise --- -->\n",
    "\n",
    "Now let's see if our matrix-vector multiplication function works even if numbers\n",
    "are not exact"
   ]
  },
  {
   "cell_type": "code",
   "execution_count": 14,
   "metadata": {
    "collapsed": false
   },
   "outputs": [],
   "source": [
    "v = [1000, 700.00000000001, 500, 200]\n",
    "A = [[0, 0.2, 1.5, 0.0],\n",
    "     [0.9, 0, 0, 0],\n",
    "     [0, 0.8, 0, 0],\n",
    "     [0, 0, 0.5, 0.3]]\n",
    "result = mat_dot_vec(A, v)\n",
    "true_result = [890, 900, 560, 310]\n",
    "if vec_ca_equal(result, true_result, precision=10):\n",
    "    print('mat_dot_vec is succesfull!')\n",
    "else:\n",
    "    print('mat_dot_vec is unsuccesfull!', result, 'not equal to', true_result)"
   ]
  },
  {
   "cell_type": "markdown",
   "metadata": {},
   "source": [
    "<!-- --- end exercise --- -->\n",
    "\n",
    "\n",
    "\n",
    "\n",
    "<!-- --- begin exercise --- -->\n",
    "\n",
    "## Exercise 3: Matrix multiplication\n",
    "\n",
    "In order to do multiply two matrices we need some way of flipping a matrix,\n",
    "as seen in the figure below.\n",
    "This is called transposing a matrix, which means that each row becomes a column.\n",
    "\n",
    "<!-- !bu-alert -->\n",
    "<!-- Vis slide \"Matrise multiplikasjon\" -->\n",
    "<!-- !eu-alert -->\n",
    "\n",
    "\n",
    "**a)**\n",
    "Implement a python function that takes transposes a matrix arguments."
   ]
  },
  {
   "cell_type": "code",
   "execution_count": 15,
   "metadata": {
    "collapsed": false
   },
   "outputs": [],
   "source": [
    "def transpose(A):\n",
    "    result = []\n",
    "    nrows = len(A)\n",
    "    ncols = len(A[0])\n",
    "    for i in range(nrows):\n",
    "        row = []\n",
    "        for j in range(ncols):\n",
    "            # code here\n",
    "        result.append(row)\n",
    "    return result"
   ]
  },
  {
   "cell_type": "markdown",
   "metadata": {},
   "source": [
    "<!-- --- begin solution of exercise --- -->\n",
    "**Solution.**"
   ]
  },
  {
   "cell_type": "code",
   "execution_count": 16,
   "metadata": {
    "collapsed": false
   },
   "outputs": [],
   "source": [
    "def transpose(A):\n",
    "    result = []\n",
    "    nrows = len(A)\n",
    "    ncols = len(A[0])\n",
    "    for i in range(nrows):\n",
    "        row = []\n",
    "        for j in range(ncols):\n",
    "            row.append(A[j][i])\n",
    "        result.append(row)\n",
    "    return result"
   ]
  },
  {
   "cell_type": "markdown",
   "metadata": {},
   "source": [
    "<!-- --- end solution of exercise --- -->\n",
    "Now, we can try to multiply matrices\n",
    "**b)**\n",
    "Implement matrix-matrix multiplication as a python function that takes two lists as\n",
    "arguments. Remember that you may use the `mat_dot_vec` function, and that the\n",
    "rows of B is vectors."
   ]
  },
  {
   "cell_type": "code",
   "execution_count": 17,
   "metadata": {
    "collapsed": false
   },
   "outputs": [],
   "source": [
    "def mat_dot_mat(A, B):\n",
    "    result = []\n",
    "    A_T = # transpose A\n",
    "    for b in B:\n",
    "        # multiply matrix A_T with vector b\n",
    "    return result"
   ]
  },
  {
   "cell_type": "markdown",
   "metadata": {},
   "source": [
    "<!-- --- begin solution of exercise --- -->\n",
    "**Solution.**"
   ]
  },
  {
   "cell_type": "code",
   "execution_count": 18,
   "metadata": {
    "collapsed": false
   },
   "outputs": [],
   "source": [
    "def mat_dot_mat(A, B):\n",
    "    result = []\n",
    "    A_T = transpose(A)\n",
    "    for b in B:\n",
    "        result.append(mat_dot_vec(A_T, b))\n",
    "    return result"
   ]
  },
  {
   "cell_type": "markdown",
   "metadata": {},
   "source": [
    "<!-- --- end solution of exercise --- -->\n",
    "\n",
    "And in order to test this function we need to check if each number is approximately\n",
    "equal to each other\n",
    "\n",
    "**c)**\n",
    "Implement a test function that checks if two matrices ar approximately equal"
   ]
  },
  {
   "cell_type": "code",
   "execution_count": 19,
   "metadata": {
    "collapsed": false
   },
   "outputs": [],
   "source": [
    "def mat_ca_equal(A, B, precision=10):\n",
    "    if len(A) != len(B):\n",
    "        return False\n",
    "    for a, b in zip(A, B):\n",
    "        # if not vector a is approximately equal to b\n",
    "            return False\n",
    "    return True"
   ]
  },
  {
   "cell_type": "markdown",
   "metadata": {},
   "source": [
    "<!-- --- begin solution of exercise --- -->\n",
    "**Solution.**"
   ]
  },
  {
   "cell_type": "code",
   "execution_count": 20,
   "metadata": {
    "collapsed": false
   },
   "outputs": [],
   "source": [
    "def mat_ca_equal(A, B, precision=10):\n",
    "    if len(A) != len(B):\n",
    "        return False\n",
    "    for a, b in zip(A, B):\n",
    "        if not vec_ca_equal(a, b, precision):\n",
    "            return False\n",
    "    return True"
   ]
  },
  {
   "cell_type": "markdown",
   "metadata": {},
   "source": [
    "<!-- --- end solution of exercise --- -->\n",
    "Lets make a test case, to not write so many matrices over and over again we can\n",
    "test $A^2$, play around with precision to see what level of precision we can expect\n",
    "from a the second power of A."
   ]
  },
  {
   "cell_type": "code",
   "execution_count": 21,
   "metadata": {
    "collapsed": false
   },
   "outputs": [],
   "source": [
    "A = [[0, 0.2, 1.5, 0.0],\n",
    "     [0.9, 0, 0, 0],\n",
    "     [0, 0.8, 0, 0],\n",
    "     [0, 0, 0.5, 0.3]]\n",
    "result = mat_dot_mat(A, A)\n",
    "true_result = [[0.18, 1.2, 0, 0],\n",
    "               [0, 0.18, 1.35, 0],\n",
    "               [0.72, 0, 0, 0],\n",
    "               [0, 0.4, 0.15, 0.09]]\n",
    "if mat_ca_equal(result, true_result, 10):\n",
    "    print('mat_dot_mat is succesfull!')\n",
    "else:\n",
    "    print('mat_dot_mat is unsuccesfull!', result, 'not equal to', true_result)"
   ]
  },
  {
   "cell_type": "markdown",
   "metadata": {},
   "source": [
    "Finally, we need a function that can perform multiple powers as it is tedious to\n",
    "write `A_mul = mat_dot_mat(A, A)` and then `A_mul = mat_dot_mat(A, A_mul)`\n",
    "and then `A_mul = mat_dot_mat(A, A_mul)` and so on\n",
    "\n",
    "**d)**\n",
    "Implement a function that performs any matrix powers"
   ]
  },
  {
   "cell_type": "code",
   "execution_count": 22,
   "metadata": {
    "collapsed": false
   },
   "outputs": [],
   "source": [
    "def mat_power(A, N):\n",
    "    A_power = A\n",
    "    for _ in range(1, N):\n",
    "        A_power = # code here\n",
    "    return A_power"
   ]
  },
  {
   "cell_type": "markdown",
   "metadata": {},
   "source": [
    "<!-- --- begin solution of exercise --- -->\n",
    "**Solution.**"
   ]
  },
  {
   "cell_type": "code",
   "execution_count": 23,
   "metadata": {
    "collapsed": false
   },
   "outputs": [],
   "source": [
    "def mat_power(A, N):\n",
    "    A_power = A\n",
    "    for _ in range(1, N):\n",
    "        A_power = mat_dot_mat(A, A_power)\n",
    "    return A_power"
   ]
  },
  {
   "cell_type": "markdown",
   "metadata": {},
   "source": [
    "<!-- --- end solution of exercise --- -->\n",
    "\n",
    "Finally, we make a test case, to see if our `mat_power` works. Play\n",
    "around with precision to see what level of precision we can expect\n",
    "from a the 10th power of A."
   ]
  },
  {
   "cell_type": "code",
   "execution_count": 24,
   "metadata": {
    "collapsed": false
   },
   "outputs": [],
   "source": [
    "A = [[0, 0.2, 1.5, 0.0],\n",
    "     [0.9, 0, 0, 0],\n",
    "     [0, 0.8, 0, 0],\n",
    "     [0, 0, 0.5, 0.3]]\n",
    "result = mat_power(A, 10)\n",
    "true_result = [[0.23, 1.01, 1.93, 0],\n",
    "               [1.16, 0.23, 0.85, 0],\n",
    "               [0.45, 1.03, 0.11, 0],\n",
    "               [0.18, 0.31, 0.71, 0]]\n",
    "if mat_ca_equal(result, true_result, 2):\n",
    "    print('mat_power is succesfull!')\n",
    "else:\n",
    "    print('mat_power is unsuccesfull!', result, 'not equal to', true_result)"
   ]
  },
  {
   "cell_type": "markdown",
   "metadata": {},
   "source": [
    "<!-- --- end exercise --- -->\n",
    "\n",
    "\n",
    "\n",
    "\n",
    "<!-- --- begin exercise --- -->\n",
    "\n",
    "## Exercise 4: Dragonflies\n",
    "\n",
    "A population of dragonflies is distributed over two dams.\n",
    "Every day, 20\\% of the population in dam A migrates to dam B.\n",
    "Moreover, 30\\% of the population migrates from dam B to dam A.\n",
    "The rest remains in both cases.\n",
    "Let $a_t$ be the number of dragonflies in dam A at time $t$, likewise with $b_t$.\n",
    "Then the system may be describes as"
   ]
  },
  {
   "cell_type": "markdown",
   "metadata": {},
   "source": [
    "$$\n",
    "\\begin{bmatrix}\n",
    "    a_{t+1} \\\\\n",
    "    b_{t+1} \\\\\n",
    "\\end{bmatrix} =\n",
    "\\begin{bmatrix}\n",
    "    0.8   & 0.3 \\\\\n",
    "    0.2   & 0.7 \\\\\n",
    "\\end{bmatrix}\n",
    "\\begin{bmatrix}\n",
    "    a_t \\\\\n",
    "    b_t \\\\\n",
    "\\end{bmatrix}\n",
    "$$"
   ]
  },
  {
   "cell_type": "markdown",
   "metadata": {},
   "source": [
    "**a)**\n",
    "Set up the transition matrix and determine how the population will distribute\n",
    "in the two dams after a very long time.\n",
    "\n",
    "\n",
    "<!-- --- begin solution of exercise --- -->\n",
    "**Solution.**"
   ]
  },
  {
   "cell_type": "code",
   "execution_count": 25,
   "metadata": {
    "collapsed": false
   },
   "outputs": [],
   "source": [
    "P = [[0.8, 0.3],\n",
    "     [0.2, 0.7]]\n",
    "\n",
    "P20 = mat_power(P, 20)"
   ]
  },
  {
   "cell_type": "code",
   "execution_count": 26,
   "metadata": {
    "collapsed": false
   },
   "outputs": [],
   "source": [
    "n0 = [100, 100]\n",
    "n20 = mat_dot_vec(P20, n0)\n",
    "print(n20)"
   ]
  },
  {
   "cell_type": "markdown",
   "metadata": {},
   "source": [
    "<!-- --- end solution of exercise --- -->\n",
    "\n",
    "**b)**\n",
    "Is the solution sensitive to the initial number of dragonflies in dam A and B?\n",
    "\n",
    "\n",
    "<!-- --- begin solution of exercise --- -->\n",
    "**Solution.**"
   ]
  },
  {
   "cell_type": "code",
   "execution_count": 27,
   "metadata": {
    "collapsed": false
   },
   "outputs": [],
   "source": [
    "n0 = [3, 10]\n",
    "n20 = mat_dot_vec(P20, n0)\n",
    "print(n20)"
   ]
  },
  {
   "cell_type": "markdown",
   "metadata": {},
   "source": [
    "The system is sensitive to initial conditions.\n",
    "\n",
    "<!-- --- end solution of exercise --- -->\n",
    "\n",
    "<!-- --- end exercise --- -->\n",
    "\n",
    "\n",
    "\n",
    "\n",
    "<!-- --- begin exercise --- -->\n",
    "\n",
    "## Exercise 5: Breast cancer\n",
    "\n",
    "\n",
    "**a)**\n",
    "Set up the transition matrix\n",
    "\n",
    "\n",
    "<!-- --- begin solution of exercise --- -->\n",
    "**Solution.**"
   ]
  },
  {
   "cell_type": "code",
   "execution_count": 28,
   "metadata": {
    "collapsed": false
   },
   "outputs": [],
   "source": [
    "A = [[0.998, 0.65, 0],\n",
    "     [0.002, 0, 0.1],\n",
    "     [0, 0.35, 0.9]]"
   ]
  },
  {
   "cell_type": "markdown",
   "metadata": {},
   "source": [
    "<!-- --- end solution of exercise --- -->\n",
    "\n",
    "**b)**\n",
    "What happens in the long run\n",
    "\n",
    "\n",
    "<!-- --- begin solution of exercise --- -->\n",
    "**Solution.**"
   ]
  },
  {
   "cell_type": "code",
   "execution_count": 29,
   "metadata": {
    "collapsed": false
   },
   "outputs": [],
   "source": [
    "A100 = mat_power(A, 100)\n",
    "n0 = [1, 0, 0] # all are healthy in the begining\n",
    "n100 = mat_dot_vec(A100, n0)\n",
    "print(n100)"
   ]
  },
  {
   "cell_type": "markdown",
   "metadata": {},
   "source": [
    "<!-- --- end solution of exercise --- -->\n",
    "\n",
    "**c)**\n",
    "How does the different groups evolve\n",
    "\n",
    "\n",
    "<!-- --- begin solution of exercise --- -->\n",
    "**Solution.**"
   ]
  },
  {
   "cell_type": "code",
   "execution_count": 30,
   "metadata": {
    "collapsed": false
   },
   "outputs": [],
   "source": [
    "%matplotlib inline\n",
    "from pylab import *\n",
    "n0 = [1, 0, 0] # all are healthy in the begining\n",
    "healthy = []\n",
    "early = []\n",
    "late = []\n",
    "Ns = range(20)\n",
    "AN = A\n",
    "for N in Ns:\n",
    "    AN = mat_dot_mat(A, AN)\n",
    "    n = mat_dot_vec(AN, n0)\n",
    "    healthy.append(n[0])\n",
    "    early.append(n[1])\n",
    "    late.append(n[2])\n",
    "\n",
    "plt.figure()\n",
    "plt.semilogy(Ns, healthy, label='healthy')\n",
    "plt.semilogy(Ns, early, label='early stage')\n",
    "plt.semilogy(Ns, late, label='late stage')\n",
    "plt.legend()\n",
    "plt.show()"
   ]
  },
  {
   "cell_type": "markdown",
   "metadata": {},
   "source": [
    "<!-- --- end solution of exercise --- -->\n",
    "\n",
    "**d)**\n",
    "Is the process sensitive to initial conditions?\n",
    "\n",
    "\n",
    "<!-- --- begin solution of exercise --- -->\n",
    "**Solution.**"
   ]
  },
  {
   "cell_type": "code",
   "execution_count": 31,
   "metadata": {
    "collapsed": false
   },
   "outputs": [],
   "source": [
    "from random import shuffle\n",
    "n0 = [.1, .6, .3]\n",
    "shuffle(n0)\n",
    "n100 = mat_dot_vec(A100, n0)\n",
    "print(n100)"
   ]
  },
  {
   "cell_type": "markdown",
   "metadata": {},
   "source": [
    "<!-- --- end solution of exercise --- -->\n",
    "\n",
    "<!-- --- end exercise --- -->\n",
    "\n",
    "\n",
    "\n",
    "\n",
    "<!-- --- begin exercise --- -->\n",
    "\n",
    "## Exercise 6: Age distribution in Yellow Perch\n",
    "\n",
    "\n",
    "**a)**\n",
    "Set up the transition matrix\n",
    "\n",
    "\n",
    "<!-- --- begin solution of exercise --- -->\n",
    "**Solution.**"
   ]
  },
  {
   "cell_type": "code",
   "execution_count": 32,
   "metadata": {
    "collapsed": false
   },
   "outputs": [],
   "source": [
    "P = [[0, 0, 100, 150],\n",
    "     [0.05, 0, 0, 0],\n",
    "     [0, 0.2, 0, 0],\n",
    "     [0, 0, 0.75, 0]]"
   ]
  },
  {
   "cell_type": "markdown",
   "metadata": {},
   "source": [
    "<!-- --- end solution of exercise --- -->\n",
    "\n",
    "**b)**\n",
    "What happens in the long run\n",
    "\n",
    "\n",
    "<!-- --- begin solution of exercise --- -->\n",
    "**Solution.**"
   ]
  },
  {
   "cell_type": "code",
   "execution_count": 33,
   "metadata": {
    "collapsed": false
   },
   "outputs": [],
   "source": [
    "P20 = mat_power(P, 20)\n",
    "v0 = [10000, 1000, 500, 300]\n",
    "v20 = mat_dot_vec(P20, v0)\n",
    "print(v20)"
   ]
  },
  {
   "cell_type": "code",
   "execution_count": 34,
   "metadata": {
    "collapsed": false
   },
   "outputs": [],
   "source": [
    "from pylab import *\n",
    "plt.figure()\n",
    "PN = P\n",
    "values = {'pop 1': [], 'pop 2': [], 'pop 3': [], 'pop 4': []}\n",
    "Ns = range(20)\n",
    "for N in Ns:\n",
    "    PN = mat_dot_mat(P, PN)\n",
    "    v = mat_dot_vec(PN, v0)\n",
    "    values['pop 1'].append(v[0])\n",
    "    values['pop 2'].append(v[1])\n",
    "    values['pop 3'].append(v[2])\n",
    "    values['pop 4'].append(v[3])\n",
    "\n",
    "for name, value in values.items():\n",
    "    plt.plot(Ns, value, label=name)\n",
    "plt.legend()\n",
    "plt.show()"
   ]
  },
  {
   "cell_type": "markdown",
   "metadata": {},
   "source": [
    "<!-- --- end solution of exercise --- -->\n",
    "\n",
    "<!-- --- end exercise --- -->\n",
    "\n",
    "\n",
    "\n",
    "\n",
    "<!-- --- begin exercise --- -->\n",
    "\n",
    "## Exercise 7: Metabolizm of medicine\n",
    "\n",
    "\n",
    "**a)**\n",
    "Set up the transition matrix\n",
    "\n",
    "\n",
    "<!-- --- begin solution of exercise --- -->\n",
    "**Solution.**"
   ]
  },
  {
   "cell_type": "code",
   "execution_count": 35,
   "metadata": {
    "collapsed": false
   },
   "outputs": [],
   "source": [
    "P = [[0.5, 0],\n",
    "     [0.5, 0.2]]"
   ]
  },
  {
   "cell_type": "markdown",
   "metadata": {},
   "source": [
    "<!-- --- end solution of exercise --- -->\n",
    "\n",
    "**b)**\n",
    "How does the model evolve over time?\n",
    "\n",
    "\n",
    "<!-- --- begin solution of exercise --- -->\n",
    "**Solution.**"
   ]
  },
  {
   "cell_type": "code",
   "execution_count": 36,
   "metadata": {
    "collapsed": false
   },
   "outputs": [],
   "source": [
    "from pylab import *\n",
    "plt.figure()\n",
    "PN = P\n",
    "values = {'tummy': [], 'blood': []}\n",
    "Ns = range(10)\n",
    "v0 = [1, 0]\n",
    "for N in Ns:\n",
    "    PN = mat_dot_mat(P, PN)\n",
    "    v = mat_dot_vec(PN, v0)\n",
    "    values['tummy'].append(v[0])\n",
    "    values['blood'].append(v[1])\n",
    "\n",
    "for name, value in values.items():\n",
    "    plt.plot(Ns, value, label=name)\n",
    "plt.legend()\n",
    "plt.show()"
   ]
  },
  {
   "cell_type": "markdown",
   "metadata": {},
   "source": [
    "<!-- --- end solution of exercise --- -->\n",
    "\n",
    "<!-- --- end exercise --- -->\n",
    "\n",
    "\n",
    "\n",
    "\n",
    "<!-- --- begin exercise --- -->\n",
    "\n",
    "## Exercise 8: Numbers game\n",
    "\n",
    "\n",
    "**a)**\n",
    "Make an algorithm that can set up the transition matrix P of shape M x M for\n",
    "any given p of length M and generate P based on a random list p.\n",
    "\n",
    "\n",
    "<!-- --- begin solution of exercise --- -->\n",
    "**Solution.**"
   ]
  },
  {
   "cell_type": "code",
   "execution_count": 37,
   "metadata": {
    "collapsed": false
   },
   "outputs": [],
   "source": [
    "def make_transition_matrix(p):\n",
    "    P = []\n",
    "    for i in range(len(p)):\n",
    "        P.append([])\n",
    "        for j in range(len(p)):\n",
    "            P[i].append(0)\n",
    "\n",
    "    for i in range(len(p)):\n",
    "        for j in range(len(p)):\n",
    "            if i - j == - 1:\n",
    "                P[i][j] = 1 - p[j]\n",
    "\n",
    "            if i - j == 1:\n",
    "                P[i][j] = p[j]\n",
    "\n",
    "            if i - j == len(p) - 1:\n",
    "                P[i][j] = 1 - p[j]\n",
    "\n",
    "            if i - j == 1 - len(p):\n",
    "                P[i][j] = p[j]\n",
    "    return P\n",
    "\n",
    "from random import random\n",
    "M = 10\n",
    "p = [random() for _ in range(M)]\n",
    "P = make_transition_matrix(p)"
   ]
  },
  {
   "cell_type": "markdown",
   "metadata": {},
   "source": [
    "<!-- --- end solution of exercise --- -->\n",
    "\n",
    "**b)**\n",
    "Make a test case with length 3\n",
    "\n",
    "\n",
    "<!-- --- begin solution of exercise --- -->\n",
    "**Solution.**"
   ]
  },
  {
   "cell_type": "code",
   "execution_count": 38,
   "metadata": {
    "collapsed": false
   },
   "outputs": [],
   "source": [
    "p = [.3, .4, .8]\n",
    "P_ = [[0, .6, .8],\n",
    "      [.3, 0, .2],\n",
    "      [.7, .4, 0]]\n",
    "P = make_transition_matrix(p)\n",
    "assert mat_ca_equal(P, P_, precision=10)"
   ]
  },
  {
   "cell_type": "markdown",
   "metadata": {},
   "source": [
    "<!-- --- end solution of exercise --- -->\n",
    "\n",
    "**c)**\n",
    "How does the model evolve over time?\n",
    "\n",
    "\n",
    "<!-- --- begin solution of exercise --- -->\n",
    "**Solution.**"
   ]
  },
  {
   "cell_type": "code",
   "execution_count": 39,
   "metadata": {
    "collapsed": false
   },
   "outputs": [],
   "source": [
    "from ipythonblocks import BlockGrid\n",
    "grid = BlockGrid(M, 1, block_size=50)\n",
    "for block in grid:\n",
    "    block.red = 100\n",
    "PN = P\n",
    "Ns = range(100)\n",
    "v0 = [1 for _ in range(M)]\n",
    "for N in Ns:\n",
    "    PN = mat_dot_mat(P, PN)\n",
    "    v = mat_dot_vec(PN, v0)\n",
    "    for i in range(M):\n",
    "        grid[0,i].red = v[i] * 100\n",
    "#    grid.flash()\n",
    "grid.show()"
   ]
  },
  {
   "cell_type": "markdown",
   "metadata": {},
   "source": [
    "<!-- --- end solution of exercise --- -->\n",
    "\n",
    "**d)**\n",
    "How do you know that your model correctly computes the game?\n",
    "\n",
    "\n",
    "<!-- --- begin solution of exercise --- -->\n",
    "**Solution.**"
   ]
  },
  {
   "cell_type": "code",
   "execution_count": 40,
   "metadata": {
    "collapsed": false
   },
   "outputs": [],
   "source": [
    "if num_ca_equal(sum(v), M, precision=10):\n",
    "    print('probability is conserved!')"
   ]
  },
  {
   "cell_type": "markdown",
   "metadata": {},
   "source": [
    "<!-- --- end solution of exercise --- -->\n",
    "\n",
    "<!-- --- end exercise --- -->"
   ]
  }
 ],
 "metadata": {},
 "nbformat": 4,
 "nbformat_minor": 2
}
