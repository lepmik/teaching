{
 "cells": [
  {
   "cell_type": "markdown",
   "metadata": {},
   "source": [
    "[Mikkel 1: confirm physical unit for N, acquire right b0, beta etc for birth and\n",
    "death rate, make a deal about birth=death which is an equilibrium and is found\n",
    "in both expdiff and logdiff]\n",
    "\n",
    "\n",
    "<!-- --- begin exercise --- -->\n",
    "\n",
    "## Exercise 1: Modeling the Survival of Polar Bears by the Logistic Difference Equation\n",
    "\n",
    "Polar bears (Ursus maritimus) rely almost exclusively on a diet\n",
    "of seals. To minimize their energy consumption the bears still-hunt, waiting\n",
    "for hours by breathing holes in the sea ice. When a seal\n",
    "surfaces to breathe the bear stands on its hind legs and smacks it on the head\n",
    "with both of its front paws to stun it. Then the bear bites it on the neck and\n",
    "drags it onto the ice.\n",
    "<!-- dom:MOVIE: [https://youtu.be/bA-jDk3-Mgs, width=420 height=315] -->\n",
    "<!-- begin movie -->"
   ]
  },
  {
   "cell_type": "code",
   "execution_count": 1,
   "metadata": {
    "collapsed": false
   },
   "outputs": [],
   "source": [
    "from IPython.display import HTML\n",
    "_s = \"\"\"\n",
    "<iframe width=\"420\" height=\"315\" src=\"https://youtube.com/embed/bA-jDk3-Mgs\" frameborder=\"0\" allowfullscreen></iframe>\n",
    "\"\"\"\n",
    "HTML(_s)"
   ]
  },
  {
   "cell_type": "markdown",
   "metadata": {},
   "source": [
    "<!-- end movie -->\n",
    "\n",
    "\n",
    "Presently, the sea ice minimum extent across the Arctic is decreasing at a rate\n",
    "of $14\\%$ per decade, spring break-up is occurring earlier, and fall freeze-up is\n",
    "occurring later (9). This decline in sea ice is likely reducing access to, and\n",
    "abundance of, seal prey (10).\n",
    "\n",
    "Metabolism determines the rate at which organisms require energy from\n",
    "their environment (11). Therefore, the polar bear metabolic rates provide an\n",
    "important metric for linking declines in Arctic sea ice to polar bear survival.\n",
    "Changes in energy balance resulting from increased energy expenditure or\n",
    "reductions in foraging opportunities could lead to declines in body condition,\n",
    "survival, and reproductive success.\n",
    "\n",
    "A recent study [1] contradicts previous assumptions that the polar bear\n",
    "annual field metabolic rates (FMRs) would be relatively low because of the\n",
    "bear's sit-and-wait style of hunting and theorized ability to reduce metabolism\n",
    "while fasting (13, 14), similar to that of denning bears (13, 15). Daily FMRs\n",
    "measured over 8 to 11 days, averaged $0.45\\; ml CO2/(g \\cdot h)$, which converts to\n",
    "$51.6\\; MJ/day$ or $12324.7\\; kcal/day$.\n",
    "\n",
    "To remain in energy balance with these metabolic demands,\n",
    "polar bears have evolved hunting tactics to prey on high energy-content prey,\n",
    "such as ringed seals (Pusa hispida). Using recent [1] measures of daily FMR, it is\n",
    "estimated that a solitary female bear on the spring sea ice would on average\n",
    "need to eat either one adult ringed seal, three subadult ringed seals, or 19\n",
    "newborn ringed seal pups every 10 to 12 days to remain in energetic balance.\n",
    "\n",
    "In this exercise we will determine how the loss of hunting-ground area due to declines\n",
    "in Arctic sea ice can affect the Polar bear population dynamics.\n",
    "We will focus our attention to Svalbard og Jan Mayen and treat this area as\n",
    "one big island.\n",
    "\n",
    "The annual population size $N_t$ of polar bears is governed by the number of deaths\n",
    "per year $D$, the number of births per year $B$, immigration $I$ and\n",
    "emigration $E$. We can thus model the population size $N_{t + 1}$ at the next\n",
    "year $t + 1$ as"
   ]
  },
  {
   "cell_type": "markdown",
   "metadata": {},
   "source": [
    "<!-- Equation labels as ordinary links -->\n",
    "<div id=\"eq:main\"></div>\n",
    "\n",
    "$$\n",
    "\\begin{equation}\n",
    "\\label{eq:main} \\tag{1}\n",
    "N_{t+1} = N_t + B - D + I - E\n",
    "\\end{equation}\n",
    "$$"
   ]
  },
  {
   "cell_type": "markdown",
   "metadata": {},
   "source": [
    "We assume that there is no polar bears that leave or enter our area of\n",
    "interest $(E = I = 0)$. Further, the number of births and deaths are governed\n",
    "by the birth and death rate respectively given by $b$ and $d$ we may thus write"
   ]
  },
  {
   "cell_type": "markdown",
   "metadata": {},
   "source": [
    "$$\n",
    "\\begin{align*}\n",
    "B &= bN_t\\\\\n",
    "D &= dN_t.\n",
    "\\end{align*}\n",
    "$$"
   ]
  },
  {
   "cell_type": "markdown",
   "metadata": {},
   "source": [
    "Here, the birth and death rate have the units $births / (individual \\cdot time)$\n",
    "and $deaths / (individual \\cdot time)$ respectively.\n",
    "\n",
    "Furthermore, we can get the exponential difference equation given by"
   ]
  },
  {
   "cell_type": "markdown",
   "metadata": {},
   "source": [
    "<!-- Equation labels as ordinary links -->\n",
    "<div id=\"eq:expdiff\"></div>\n",
    "\n",
    "$$\n",
    "\\begin{equation}\n",
    "\\label{eq:expdiff} \\tag{2}\n",
    "N_{t+1} = (1 + r)N_t\\\\\n",
    "r = b - d.\n",
    "\\end{equation}\n",
    "$$"
   ]
  },
  {
   "cell_type": "markdown",
   "metadata": {},
   "source": [
    "**a)**\n",
    "Show how we get the exponential difference equation given in Eq.\n",
    "([2](#eq:expdiff)) including the new information about emigration,\n",
    "immigration, birth- and death rates\n",
    "\n",
    "\n",
    "<!-- do not write anything below solution and answer blocks before esubex -->\n",
    "\n",
    "\n",
    "<!-- --- begin answer of exercise --- -->\n",
    "**Answer.**\n",
    "See Eq. ([2](#eq:expdiff))\n",
    "\n",
    "<!-- --- end answer of exercise --- -->\n",
    "\n",
    "\n",
    "<!-- --- begin solution of exercise --- -->\n",
    "**Solution.**\n",
    "Substitute $B = bN_t$, $D = dN_t$ and $E = I = 0$ in Eq. ([1](#eq:main))"
   ]
  },
  {
   "cell_type": "markdown",
   "metadata": {},
   "source": [
    "$$\n",
    "\\begin{align*}\n",
    "N_{t+1} &= N_t + bN_t - dN_t\\\\\n",
    "&=N_t(1 + r)\\\\\n",
    "r &= b - d.\n",
    "\\end{align*}\n",
    "$$"
   ]
  },
  {
   "cell_type": "markdown",
   "metadata": {},
   "source": [
    "<!-- --- end solution of exercise --- -->\n",
    "\n",
    "**b)**\n",
    "Define the constant $r = b - d$ as the intrinsic rate of increase and assume\n",
    "that the initial population size is given by $N_0$. Find the\n",
    "value $r$ where the population size $N_{t + 1}$ increases, where it decreases\n",
    "and where it neither increases or decreases.\n",
    "Plot the results for three cases and comment on the type of increase and\n",
    "decrease you observe (i.e. linear, constant, exponential), is this realistic?\n",
    "\n",
    "\n",
    "<!-- do not write anything below solution and answer blocks before esubex -->\n",
    "\n",
    "\n",
    "<!-- --- begin answer of exercise --- -->\n",
    "**Answer.**\n",
    "We set $R=1+r$ and note that the general solution to $N_{t+1}=R N_t$ with\n",
    "initial condition $N_0$ is $N_t = N_0R^t$. Here $R = 1$ yield $N_t = N_0$,\n",
    "$R>1$ gives exponential growth and $R<1$ gives exponential decay and\n",
    "solve $r + 1 = 1$, $r + 1 > 1$ and $r + 1 < 1$ respectively."
   ]
  },
  {
   "cell_type": "markdown",
   "metadata": {},
   "source": [
    "$$\n",
    "\\begin{align*}\n",
    "&N_{t} = N_0(1 + r)^t \\\\\n",
    "&r = 0:\\; N_t\\; \\text{is constant at}\\; N_0\\\\\n",
    "&r < 0:\\; N_t\\; \\text{decays exponentially to zero}\\\\\n",
    "&r > 0:\\; N_t\\; \\text{increases exponentially without bounds}\\\\\n",
    "\\end{align*}\n",
    "$$"
   ]
  },
  {
   "cell_type": "markdown",
   "metadata": {},
   "source": [
    "The exponential increase without bounds is not realistic as crowding will make\n",
    "food resources scarce leading to a higher death rate and or lower birth rate.\n",
    "\n",
    "<!-- --- end answer of exercise --- -->\n",
    "\n",
    "\n",
    "<!-- --- begin solution of exercise --- -->\n",
    "**Solution.**"
   ]
  },
  {
   "cell_type": "code",
   "execution_count": 2,
   "metadata": {
    "collapsed": false
   },
   "outputs": [],
   "source": [
    "%matplotlib inline\n",
    "\n",
    "import numpy as np\n",
    "import matplotlib.pyplot as plt\n",
    "\n",
    "t = np.linspace(0, 1, 100)\n",
    "\n",
    "\n",
    "def N(t, N0, r):\n",
    "    return N0*(1 + r)**t\n",
    "\n",
    "N0 = 10\n",
    "\n",
    "fig = plt.figure()\n",
    "plt.plot(t, N(t, N0, r=0), label='r=0')\n",
    "plt.plot(t, N(t, N0, r=0.5), label='r=0.5')\n",
    "plt.plot(t, N(t, N0, r=-0.5), label='r=-0.5')\n",
    "plt.legend()"
   ]
  },
  {
   "cell_type": "markdown",
   "metadata": {},
   "source": [
    "<!-- --- end solution of exercise --- -->\n",
    "\n",
    "When we have increased crowding we expect effects on birth and death rates.\n",
    "Specifically we expect that as the population increase, the birth rate should\n",
    "decrease, i.e. less babies as a result of less resources available. Similarly\n",
    "the death rate should increase. In other words the birth and death rates\n",
    "should be modeled as functions of the current population size $N_t$.\n",
    "The simplest way to model this is with a linear model. The model for the birth\n",
    "rate can be written as $b_t = b_0 - \\beta N_t$. Here, $b_t$ is still the birth\n",
    "rate, however it is governed by two new constants and where the subscript $t$\n",
    "indicates that $b$ is no longer a constant, but a function of time.\n",
    "The first constant $b_0$ represents the ideal birth\n",
    "rate, i.e. the birth rate which would have happen under perfect (uncrowded)\n",
    "conditions. The second constant $\\beta$ represents how strongly the birth rate\n",
    "is affected by crowding, if $\\beta$ is very large, the birth rate drops rapidly\n",
    "as the population increases. Similarly, we model the death rate by the model\n",
    "$d_t = d_0 + \\delta N_t$ where $d_0$ is the ideal death rate and $\\delta$\n",
    "represents how strong dependence the death rate have on the current population\n",
    "size $N_t$.\n",
    "\n",
    "**c)**\n",
    "Write two python functions that represents the birth and death rates which takes\n",
    "the ideal rate constants and the population size as input and plot these\n",
    "functions for the parameters given in the below script. How many births and\n",
    "deaths do you expect if the population size is $N_t = 100$?"
   ]
  },
  {
   "cell_type": "code",
   "execution_count": 3,
   "metadata": {
    "collapsed": false
   },
   "outputs": [],
   "source": [
    "import numpy as np\n",
    "import matplotlib.pyplot as plt\n",
    "\n",
    "N_max = 4000\n",
    "N = np.arange(0, N_max, 1)\n",
    "b0 = 1.25\n",
    "beta = .0005\n",
    "d0 = 0.05\n",
    "delta = .0005\n",
    "\n",
    "\n",
    "def birth_rate(N, b0, beta):\n",
    "    rate = # write answer here\n",
    "    return rate\n",
    "\n",
    "\n",
    "def death_rate(N, d0, delta):\n",
    "    rate = # write answer here\n",
    "    return rate\n",
    "\n",
    "fig = plt.figure()\n",
    "plt.plot(N, birth_rate(N, b0, beta), label='birth rate')\n",
    "plt.plot(N, death_rate(N, d0, delta), label='death rate')\n",
    "plt.legend()"
   ]
  },
  {
   "cell_type": "markdown",
   "metadata": {},
   "source": [
    "<!-- do not write anything below solution and answer blocks before esubex -->\n",
    "\n",
    "\n",
    "<!-- --- begin answer of exercise --- -->\n",
    "**Answer.**"
   ]
  },
  {
   "cell_type": "markdown",
   "metadata": {},
   "source": [
    "$$\n",
    "\\begin{align*}\n",
    "b = b0 - \\beta N \\Rightarrow b = 10 - 0.1 * 100\\text{ births/(size\\cdot time) }\\Rightarrow N_b = b * N_t = 0 * 100 = 0\\\\\n",
    "d = d0 - \\delta N \\Rightarrow d = 5 + 0.2 * 100\\text{ deaths/(size\\cdot time) }\\Rightarrow N_d = d * N_t = 25 * 100 = 2500\n",
    "\\end{align*}\n",
    "$$"
   ]
  },
  {
   "cell_type": "markdown",
   "metadata": {},
   "source": [
    "<!-- --- end answer of exercise --- -->\n",
    "\n",
    "\n",
    "<!-- --- begin solution of exercise --- -->\n",
    "**Solution.**"
   ]
  },
  {
   "cell_type": "code",
   "execution_count": 4,
   "metadata": {
    "collapsed": false
   },
   "outputs": [],
   "source": [
    "import numpy as np\n",
    "import matplotlib.pyplot as plt\n",
    "\n",
    "N_max = 4000\n",
    "N = np.arange(0, N_max, 1)\n",
    "b0 = 1.25\n",
    "beta = .0005\n",
    "d0 = 0.05\n",
    "delta = .0005\n",
    "\n",
    "\n",
    "def birth_rate(N, b0, beta):\n",
    "    rate = b0 - beta * N\n",
    "    return rate\n",
    "\n",
    "\n",
    "def death_rate(N, d0, delta):\n",
    "    rate = d0 + delta * N\n",
    "    return rate\n",
    "\n",
    "fig = plt.figure()\n",
    "plt.plot(N, birth_rate(N, b0, beta), label='birth rate')\n",
    "plt.plot(N, death_rate(N, d0, delta), label='death rate')\n",
    "plt.legend()\n",
    "\n",
    "print('Number of births at N = {}, is '.format(N_max), birth_rate(N_max, b0, beta) * N_max)\n",
    "print('Number of deaths at N = {}, is '.format(N_max), death_rate(N_max, d0, delta) * N_max)"
   ]
  },
  {
   "cell_type": "markdown",
   "metadata": {},
   "source": [
    "<!-- --- end solution of exercise --- -->\n",
    "\n",
    "To understand how crowding effects the population size we want to insert the\n",
    "newly acquired birth and death rates $b_t$ and $d_t$ respectively in\n",
    "Eq. ([1](#eq:main)). We are then capable to derive the following logistic difference\n",
    "equation."
   ]
  },
  {
   "cell_type": "markdown",
   "metadata": {},
   "source": [
    "<!-- Equation labels as ordinary links -->\n",
    "<div id=\"eq:logdiff\"></div>\n",
    "\n",
    "$$\n",
    "\\begin{equation}\n",
    "\\label{eq:logdiff} \\tag{3}\n",
    "N_{t+1} = N_t + rN_t\\left(1 - \\frac{N_t}{K}\\right)\\\\\n",
    "K = \\frac{b_0 - d_0}{\\beta + \\delta}\\\\\n",
    "r = b_0 - d_0\n",
    "\\end{equation}\n",
    "$$"
   ]
  },
  {
   "cell_type": "markdown",
   "metadata": {},
   "source": [
    "Here $K$ represents the carrying capacity and $r$ represents the rate of\n",
    "increase under ideal conditions. The carrying capacity is biologically\n",
    "defined as the maximum population size that can be supported, and have the unit\n",
    "\\textit{number of individuals}. It represents many potentially limiting factors such as\n",
    "the availability of space, food and shelter. In the model ([3](#eq:logdiff))\n",
    "polar bears resources are depleted incrementally as crowding increases.\n",
    "\n",
    "If we look closer at Eq. ([3](#eq:logdiff)) we can see that it is actually Eq.\n",
    "([2](#eq:expdiff)) but where $rN_t$ is multiplied by $1 - \\frac{N_t}{K}$.\n",
    "This quantity represents the unused portion of the carrying capacity.\n",
    "For example, if $K = 100$ and $N_t = 4$, the\n",
    "unused portion of the carrying capacity is $1 - 4/100 = 0.96$. This means that\n",
    "the population is relatively uncrowded and increasing at $96\\%$ of the\n",
    "exponential increase one would get by Eq. ([2](#eq:expdiff)). Furthermore,\n",
    "if the population is larger than the carrying capacity, e.g. in the example\n",
    "larger than $100$, the population have a negative increase relative to the\n",
    "exponential growth and quickly returns to or less than $K$. This effectively\n",
    "puts a brake on the exponential growth $(1 + r)^t$ we get from Eq. ([2](#eq:expdiff)).\n",
    "<!-- remember that we here have a biological explanation on oscillatory behavior -->\n",
    "\n",
    "**d)**\n",
    "Derive the model ([3](#eq:logdiff)).\n",
    "\n",
    "\n",
    "<!-- do not write anything below solution and answer blocks before esubex -->\n",
    "\n",
    "\n",
    "<!-- --- begin answer of exercise --- -->\n",
    "**Answer.**\n",
    "See Eq. ([3](#eq:logdiff))\n",
    "\n",
    "<!-- --- end answer of exercise --- -->\n",
    "\n",
    "\n",
    "<!-- --- begin solution of exercise --- -->\n",
    "**Solution.**"
   ]
  },
  {
   "cell_type": "markdown",
   "metadata": {},
   "source": [
    "$$\n",
    "\\begin{align*}\n",
    "N_{t+1} &= (1 + (b_0 - \\beta N_t) - (d_0 + \\delta N_t)] N_t\\\\\n",
    "&= (1 + b_0 - d_0 - \\beta N_t  - \\delta N_t)] N_t\\\\\n",
    "&= [1 + (b_0 - d_0) - (\\beta + \\delta)N_t] N_t\\\\\n",
    "\\end{align*}\n",
    "$$"
   ]
  },
  {
   "cell_type": "markdown",
   "metadata": {},
   "source": [
    "Now we exploit the fact that $\\frac{(b_0 - d_0)}{(b_0 - d_0)} = 1$ and multiply\n",
    "$1$ with $((b_0 - d_0) - (\\beta + \\delta)N_t)$"
   ]
  },
  {
   "cell_type": "markdown",
   "metadata": {},
   "source": [
    "$$\n",
    "\\begin{align*}\n",
    "N_{t+1} &= [1 + \\frac{(b_0 - d_0)}{(b_0 - d_0)}((b_0 - d_0) - (\\beta + \\delta)N_t)] N_t\\\\\n",
    "&= \\left[1 + (b_0 - d_0)\\left(\\frac{(b_0 - d_0)}{(b_0 - d_0)} - \\frac{(\\beta + \\delta)}{(b_0 - d_0)}N_t\\right)\\right] N_t\\\\\n",
    "&= \\left[1 + r\\left(1 - \\frac{1}{K}N_t\\right)\\right] N_t\\\\\n",
    "\\end{align*}\n",
    "$$"
   ]
  },
  {
   "cell_type": "markdown",
   "metadata": {},
   "source": [
    "<!-- --- end solution of exercise --- -->\n",
    "When do we get no change in the population from year to year i.e. $N_{t + 1} = N_t$?\n",
    "This is called an equilibrium point, and there are two equilibrium points of\n",
    "Eq. ([3](#eq:logdiff)) $b_0 = d_0$ and $d = b$.\n",
    "\n",
    "**e)**\n",
    "Find the two equilibrium points of Eq. ([3](#eq:logdiff)) 1) $b_0 = d_0$\n",
    "and 2) $d = b$.\n",
    "\n",
    "\n",
    "<!-- do not write anything below solution and answer blocks before esubex -->\n",
    "\n",
    "\n",
    "<!-- --- begin answer of exercise --- -->\n",
    "**Answer.**"
   ]
  },
  {
   "cell_type": "markdown",
   "metadata": {},
   "source": [
    "$$\n",
    "\\begin{align*}\n",
    "&b_0 = d_0\\\\\n",
    "&b = d\n",
    "\\end{align*}\n",
    "$$"
   ]
  },
  {
   "cell_type": "markdown",
   "metadata": {},
   "source": [
    "<!-- --- end answer of exercise --- -->\n",
    "\n",
    "\n",
    "<!-- --- begin solution of exercise --- -->\n",
    "**Solution.**"
   ]
  },
  {
   "cell_type": "markdown",
   "metadata": {},
   "source": [
    "$$\n",
    "\\begin{align*}\n",
    "N_{t+1} &= N_t + r\\left(1 - \\frac{1}{K}N_t\\right)N_t\\\\\n",
    "&= N_t \\text{ when } r\\left(1 - \\frac{1}{K}N_t\\right) = 0\n",
    "\\end{align*}\n",
    "$$"
   ]
  },
  {
   "cell_type": "markdown",
   "metadata": {},
   "source": [
    "We can thus see that when $r = 0$, then $N_{t + 1} = N_t$ and is thus an\n",
    "equilibrium point. Consequently we can write $b_0 - d_0 = 0$ and finally get"
   ]
  },
  {
   "cell_type": "markdown",
   "metadata": {},
   "source": [
    "$$\n",
    "\\begin{align*}\n",
    "b_0 = d_0.\n",
    "\\end{align*}\n",
    "$$"
   ]
  },
  {
   "cell_type": "markdown",
   "metadata": {},
   "source": [
    "On the other hand, if $1 = \\frac{N_t}{K}$ we get\n",
    "$\\left(1 - \\frac{1}{K}N_t\\right) = 0$ and the second equilibrium point is thus\n",
    "$K = N_t$. However, we want to express this in terms of $b_0, d_0, b$ and $d$\n",
    "and therefore exploit the fact that $K = \\frac{b_0 - d_0}{\\beta + \\delta}$\n",
    "giving"
   ]
  },
  {
   "cell_type": "markdown",
   "metadata": {},
   "source": [
    "$$\n",
    "\\begin{align*}\n",
    "N_t &= \\frac{b_0 - d_0}{\\beta + \\delta}\n",
    "\\end{align*}\n",
    "$$"
   ]
  },
  {
   "cell_type": "markdown",
   "metadata": {},
   "source": [
    "Moreover, we know that $b = b_0 - \\beta N_t$ giving $\\beta = (-b + b_0)/N_t$\n",
    "and $d = d_0 + \\delta N_t$ giving $\\delta = (d - d_0)/N_t$, and we may write"
   ]
  },
  {
   "cell_type": "markdown",
   "metadata": {},
   "source": [
    "$$\n",
    "\\begin{align*}\n",
    "N_t &= \\frac{b_0 - d_0}{\\beta + \\delta}\\\\\n",
    "&= \\frac{b_0 - d_0}{(-b_t + b0)/N_t + (d_t - d_0)/N_t}\\\\\n",
    "&= N_t\\frac{b_0 - d_0}{(-b + b0) + (\\delta - d_0)}\\\\\n",
    "1 &= \\frac{(b_0 - d_0)}{(d - b) + (b_0 - d_0)}\\\\\n",
    "(d - b) + (b_0 - d_0) &= (b_0 - d_0)\\\\\n",
    "b &= d\n",
    "\\end{align*}\n",
    "$$"
   ]
  },
  {
   "cell_type": "markdown",
   "metadata": {},
   "source": [
    "<!-- --- end solution of exercise --- -->\n",
    "The equilibrium point $r = 0$ or $b_0 = d_0$ is most intuitive when considered\n",
    "in light of the exponential difference equation ([2](#eq:expdiff)). Which says that\n",
    "if the birth and death rate is equal, then the population does neither grow or\n",
    "decline. However, in the logistic difference equation ([3](#eq:logdiff)) it\n",
    "says that when the ideal birth and death conditions are equal, the population growth\n",
    "will be at a standstill. The other equilibrium point $K = N_t$ or $b_t = d_t$ is\n",
    "also intuitive in the sense that if the population is equal to the carrying\n",
    "capacity, the population does not grow any more. However, it is not as\n",
    "clear to understand as $b_t$ and $d_t$ changes as the population increases.\n",
    "In the next exercise we will look more into this.\n",
    "\n",
    "<!-- with small time steps we can show that we get logistic growth -->\n",
    "**f)**\n",
    "We know from the previous exercise that if $b_t = d_t$ we get $K = N_t$. Plot\n",
    "the birth and death rate in the same plot and mark where\n",
    "these two curves intersect. Compare this number with the carrying capacity\n",
    "$K = \\frac{b_0 - d_0}{\\beta + \\delta}$. Explain how the carrying capacity\n",
    "relates to the birth, and death rates.\n",
    "\n",
    "\n",
    "<!-- do not write anything below solution and answer blocks before esubex -->\n",
    "\n",
    "\n",
    "<!-- --- begin answer of exercise --- -->\n",
    "**Answer.**\n",
    "bla\n",
    "\n",
    "<!-- --- end answer of exercise --- -->\n",
    "\n",
    "\n",
    "<!-- --- begin solution of exercise --- -->\n",
    "**Solution.**"
   ]
  },
  {
   "cell_type": "code",
   "execution_count": 5,
   "metadata": {
    "collapsed": false
   },
   "outputs": [],
   "source": [
    "%matplotlib inline\n",
    "import numpy as np\n",
    "import matplotlib.pyplot as plt\n",
    "N_max = 4000\n",
    "N = np.arange(0, N_max, 1)\n",
    "b0 = 1.25\n",
    "beta = .0005\n",
    "d0 = 0.05\n",
    "delta = .0005\n",
    "\n",
    "K = (b0 - d0) / (beta + delta)\n",
    "\n",
    "\n",
    "def birth_rate(N, b0, beta):\n",
    "    rate = b0 - beta * N\n",
    "    return rate\n",
    "\n",
    "\n",
    "def death_rate(N, d0, delta):\n",
    "    rate = d0 + delta * N\n",
    "    return rate\n",
    "\n",
    "fig = plt.figure()\n",
    "plt.plot(N, birth_rate(N, b0, beta), label='birth rate (b)')\n",
    "plt.plot(N, death_rate(N, d0, delta), label='death rate (d)')\n",
    "plt.plot(np.ones_like(N) * K,\n",
    "         np.linspace(0, death_rate(K, d0, delta), len(N)), ls='--', c='k')\n",
    "plt.plot(K, death_rate(K, d0, delta), ls='none', c='k', marker='*')\n",
    "plt.text(x=K+100, y=death_rate(K, d0, delta), s='carrying capacity (K)')\n",
    "plt.ylim([0, death_rate(N_max, d0, delta)])\n",
    "plt.xlim([0, N_max])\n",
    "plt.legend(loc=9)"
   ]
  },
  {
   "cell_type": "markdown",
   "metadata": {},
   "source": [
    "<!-- --- end solution of exercise --- -->\n",
    "\n",
    "Now, let's see how the polar bears population will grow!\n",
    "\n",
    "**g)**\n",
    "<!-- do not write anything below solution and answer blocks before esubex -->\n",
    "\n",
    "\n",
    "<!-- --- begin answer of exercise --- -->\n",
    "**Answer.**\n",
    "bla\n",
    "\n",
    "<!-- --- end answer of exercise --- -->\n",
    "\n",
    "\n",
    "<!-- --- begin solution of exercise --- -->\n",
    "**Solution.**"
   ]
  },
  {
   "cell_type": "code",
   "execution_count": 6,
   "metadata": {
    "collapsed": false
   },
   "outputs": [],
   "source": [
    "%matplotlib inline\n",
    "import numpy as np\n",
    "import matplotlib.pyplot as plt\n",
    "\n",
    "N_start = 100\n",
    "duration = 100\n",
    "\n",
    "r = b0 - d0\n",
    "\n",
    "K = r / (beta + delta)\n",
    "\n",
    "def N_next(N, K, r):\n",
    "    K_unused = 1. - N / K\n",
    "    return N * (1 + r * K_unused)\n",
    "\n",
    "years = np.arange(0, duration, 1)\n",
    "\n",
    "N_t = np.zeros(duration)\n",
    "N_t[0] = N_next(N_start, K, r)\n",
    "\n",
    "for year in years[:-1]:\n",
    "    N_t[year + 1] = N_next(N_t[year], K, r)\n",
    "\n",
    "fig = plt.figure()\n",
    "plt.plot(years, N_t)"
   ]
  },
  {
   "cell_type": "markdown",
   "metadata": {},
   "source": [
    "<!-- --- end solution of exercise --- -->\n",
    "\n",
    "**h)**\n",
    "<!-- do not write anything below solution and answer blocks before esubex -->\n",
    "\n",
    "\n",
    "<!-- --- begin answer of exercise --- -->\n",
    "**Answer.**\n",
    "bla\n",
    "\n",
    "<!-- --- end answer of exercise --- -->\n",
    "\n",
    "\n",
    "<!-- --- begin solution of exercise --- -->\n",
    "**Solution.**"
   ]
  },
  {
   "cell_type": "code",
   "execution_count": 7,
   "metadata": {
    "collapsed": false
   },
   "outputs": [],
   "source": [
    "import numpy as np\n",
    "from ipywidgets import *\n",
    "import numpy as np\n",
    "import matplotlib.pyplot as plt\n",
    "%matplotlib notebook\n",
    "%matplotlib notebook\n",
    "\n",
    "N_start = 100\n",
    "duration = 100\n",
    "\n",
    "r = b0 - d0\n",
    "\n",
    "K = r / (beta + delta)\n",
    "\n",
    "def N_next(N, K, r):\n",
    "    K_unused = 1. - N / K\n",
    "    return N * (1 + r * K_unused)\n",
    "\n",
    "def polar_bears(N_start, duration, K, r):\n",
    "    years = range(0, duration)\n",
    "    N_t = np.zeros(duration)\n",
    "    N_t[0] = N_next(N_start, K, r)\n",
    "    for year in years[:-1]:\n",
    "        N_t[year + 1] = N_next(N_t[year], K, r)\n",
    "    return years, N_t\n",
    "\n",
    "fig = plt.figure()\n",
    "line, = plt.plot(*polar_bears(N_start, duration, K, r))\n",
    "\n",
    "def update(b0, d0):\n",
    "    r = b0 - d0\n",
    "    K = r / (beta + delta)\n",
    "    if K == 0:\n",
    "        return\n",
    "    years, y = polar_bears(N_start, duration, K, r)\n",
    "    line.set_ydata(y)\n",
    "    plt.ylim([y.min(), y.max()])\n",
    "    fig.canvas.draw()"
   ]
  },
  {
   "cell_type": "code",
   "execution_count": 8,
   "metadata": {
    "collapsed": false
   },
   "outputs": [],
   "source": [
    "interact(update,\n",
    "         b0=FloatSlider(min=0., max=3., step=.01, value=b0),\n",
    "         d0=FloatSlider(min=0., max=3., step=.01, value=d0));"
   ]
  },
  {
   "cell_type": "markdown",
   "metadata": {},
   "source": [
    "<!-- --- end solution of exercise --- -->\n",
    "\n",
    "<!-- --- end exercise --- -->"
   ]
  }
 ],
 "metadata": {},
 "nbformat": 4,
 "nbformat_minor": 2
}
